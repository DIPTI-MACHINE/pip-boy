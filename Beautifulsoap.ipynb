{
 "cells": [
  {
   "cell_type": "code",
   "execution_count": 1,
   "id": "0f9cabb9",
   "metadata": {},
   "outputs": [],
   "source": [
    "import requests\n",
    "from bs4 import BeautifulSoup"
   ]
  },
  {
   "cell_type": "code",
   "execution_count": 2,
   "id": "8f5752e6",
   "metadata": {},
   "outputs": [],
   "source": [
    "url=\"https://finance.yahoo.com/quote/AAPL?p=AAPL\""
   ]
  },
  {
   "cell_type": "code",
   "execution_count": 3,
   "id": "4e0cf116",
   "metadata": {},
   "outputs": [],
   "source": [
    "response=requests.get(url)\n",
    "t=response.text"
   ]
  },
  {
   "cell_type": "code",
   "execution_count": 4,
   "id": "b1d2ced9",
   "metadata": {},
   "outputs": [],
   "source": [
    "soup=BeautifulSoup(t,features=\"html.parser\")"
   ]
  },
  {
   "cell_type": "code",
   "execution_count": 18,
   "id": "21bcbcb8",
   "metadata": {},
   "outputs": [
    {
     "name": "stdout",
     "output_type": "stream",
     "text": [
      "Previous Close\n",
      "172.19\n"
     ]
    }
   ],
   "source": [
    "trs=soup.find_all(\"tr\")\n",
    "print(trs[0].contents[0].text)\n",
    "print(trs[0].contents[1].text)\n",
    "#we got value of Previous close"
   ]
  },
  {
   "cell_type": "code",
   "execution_count": 20,
   "id": "dda842e4",
   "metadata": {},
   "outputs": [
    {
     "name": "stdout",
     "output_type": "stream",
     "text": [
      "<tr class=\"Bxz(bb) Bdbw(1px) Bdbs(s) Bdc($seperatorColor) H(36px)\" data-reactid=\"93\"><td class=\"C($primaryColor) W(51%)\" data-reactid=\"94\"><span data-reactid=\"95\">Previous Close</span></td><td class=\"Ta(end) Fw(600) Lh(14px)\" data-reactid=\"96\" data-test=\"PREV_CLOSE-value\">172.19</td></tr>\n"
     ]
    }
   ],
   "source": [
    "print(trs[0])"
   ]
  },
  {
   "cell_type": "code",
   "execution_count": null,
   "id": "6b11e63d",
   "metadata": {},
   "outputs": [],
   "source": []
  }
 ],
 "metadata": {
  "kernelspec": {
   "display_name": "Python 3 (ipykernel)",
   "language": "python",
   "name": "python3"
  },
  "language_info": {
   "codemirror_mode": {
    "name": "ipython",
    "version": 3
   },
   "file_extension": ".py",
   "mimetype": "text/x-python",
   "name": "python",
   "nbconvert_exporter": "python",
   "pygments_lexer": "ipython3",
   "version": "3.8.8"
  }
 },
 "nbformat": 4,
 "nbformat_minor": 5
}
