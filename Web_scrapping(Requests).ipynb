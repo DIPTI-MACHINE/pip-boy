{
 "cells": [
  {
   "cell_type": "code",
   "execution_count": 1,
   "id": "29b3d766",
   "metadata": {},
   "outputs": [],
   "source": [
    "import requests"
   ]
  },
  {
   "cell_type": "code",
   "execution_count": 6,
   "id": "f62b80ac",
   "metadata": {},
   "outputs": [
    {
     "name": "stdout",
     "output_type": "stream",
     "text": [
      "<Response [200]>\n"
     ]
    }
   ],
   "source": [
    "url=\"https://finance.yahoo.com/quote/AAPL?p=AAPL\"\n",
    "response=requests.get(url)\n",
    "print(response)\n",
    "#checking the URL is responding correctly"
   ]
  },
  {
   "cell_type": "code",
   "execution_count": 14,
   "id": "69d58084",
   "metadata": {},
   "outputs": [
    {
     "name": "stdout",
     "output_type": "stream",
     "text": [
      "200\n"
     ]
    }
   ],
   "source": [
    "print(response.status_code)\n",
    "t=response.text\n",
    "#printing the response"
   ]
  },
  {
   "cell_type": "code",
   "execution_count": 47,
   "id": "1a36d20e",
   "metadata": {},
   "outputs": [
    {
     "name": "stdout",
     "output_type": "stream",
     "text": [
      "Previous Close</span></td><td class=\"Ta(end) Fw(600) Lh(14px)\" data-test=\"PREV_CLOSE-value\" data-reactid=\"96\">175.53</td></tr><tr class=\"Bxz(bb) Bdbw(\n"
     ]
    }
   ],
   "source": [
    "prop=(\"Previous Close\")\n",
    "\n",
    "ind=t.index(\"Previous Close\")\n",
    "readtext=t[ind:ind+150]#slicing \n",
    "print(readtext)\n",
    "\n",
    "#it is printing tottal 150 character starting from Previous Close  but we need only the value 175.53, see the next step"
   ]
  },
  {
   "cell_type": "code",
   "execution_count": 45,
   "id": "170c93f2",
   "metadata": {},
   "outputs": [
    {
     "name": "stdout",
     "output_type": "stream",
     "text": [
      "175.53\n"
     ]
    }
   ],
   "source": [
    "readtext=t[ind:].split(\"</span>\")[1]\n",
    "val=readtext.split(\">\")[2][0:6]\n",
    "print(val)\n",
    "#by using  list slicing we need to find out the exact  index of 175.53, this is hard coded and to smplify this we neeed to use beutifulsoap"
   ]
  }
 ],
 "metadata": {
  "kernelspec": {
   "display_name": "Python 3 (ipykernel)",
   "language": "python",
   "name": "python3"
  },
  "language_info": {
   "codemirror_mode": {
    "name": "ipython",
    "version": 3
   },
   "file_extension": ".py",
   "mimetype": "text/x-python",
   "name": "python",
   "nbconvert_exporter": "python",
   "pygments_lexer": "ipython3",
   "version": "3.8.8"
  }
 },
 "nbformat": 4,
 "nbformat_minor": 5
}
